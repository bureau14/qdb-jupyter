{
 "cells": [
  {
   "cell_type": "markdown",
   "metadata": {},
   "source": [
    "# Connection test and server information"
   ]
  },
  {
   "cell_type": "code",
   "execution_count": 1,
   "metadata": {},
   "outputs": [
    {
     "name": "stdout",
     "output_type": "stream",
     "text": [
      "3.4.1\n"
     ]
    }
   ],
   "source": [
    "import quasardb\n",
    "print(quasardb.version()) "
   ]
  },
  {
   "cell_type": "code",
   "execution_count": 2,
   "metadata": {},
   "outputs": [],
   "source": [
    "\n",
    "c = quasardb.Cluster(\"qdb://qdb-server:2836\")"
   ]
  },
  {
   "cell_type": "code",
   "execution_count": 3,
   "metadata": {},
   "outputs": [
    {
     "data": {
      "text/plain": [
       "{'predecessor': {'reference': 'c5fe30bf0154acc-5d63bd06e7878b9c-5f635b3cf7fc3560-dbe35df7b5080651',\n",
       "  'endpoint': '172.17.0.2:2836'},\n",
       " 'center': {'reference': 'c5fe30bf0154acc-5d63bd06e7878b9c-5f635b3cf7fc3560-dbe35df7b5080651',\n",
       "  'endpoint': '172.17.0.2:2836'},\n",
       " 'successor': {'reference': 'c5fe30bf0154acc-5d63bd06e7878b9c-5f635b3cf7fc3560-dbe35df7b5080651',\n",
       "  'endpoint': '172.17.0.2:2836'}}"
      ]
     },
     "execution_count": 3,
     "metadata": {},
     "output_type": "execute_result"
    }
   ],
   "source": [
    "c.node_topology(\"qdb://qdb-server:2836\")"
   ]
  },
  {
   "cell_type": "code",
   "execution_count": 4,
   "metadata": {},
   "outputs": [
    {
     "data": {
      "text/plain": [
       "{'memory': {'vm': {'used': 1449721856, 'total': 140737488351232},\n",
       "  'physmem': {'used': 1856389120, 'total': 2088243200}},\n",
       " 'cpu_times': {'idle': 1360606470000,\n",
       "  'system': 1879090000,\n",
       "  'user': 3672270000},\n",
       " 'disk_usage': {'free': 17396166656, 'total': 62725623808},\n",
       " 'network': {'listening_endpoint': '172.17.0.2:2836',\n",
       "  'logged_users': [],\n",
       "  'partitions': {'count': 1, 'max_sessions': 64, 'available_sessions': 60}},\n",
       " 'node_id': 'c5fe30bf0154acc-5d63bd06e7878b9c-5f635b3cf7fc3560-dbe35df7b5080651',\n",
       " 'operating_system': 'Linux 4.14.131-linuxkit',\n",
       " 'hardware_concurrency': 4,\n",
       " 'timestamp': '2019-10-01T09:31:14Z',\n",
       " 'startup': '2019-09-30T17:00:23Z',\n",
       " 'engine_version': '3.4.1',\n",
       " 'engine_build_date': '2019-08-08T14:56:08Z',\n",
       " 'entries': {'resident': {'count': 18309, 'size': 24566442},\n",
       "  'persisted': {'count': 1062158, 'size': 2194642459}},\n",
       " 'overall': {'count': 1508483,\n",
       "  'successes': 1507555,\n",
       "  'failures': 928,\n",
       "  'pageins': 0,\n",
       "  'evictions': 0,\n",
       "  'in_bytes': 0,\n",
       "  'out_bytes': 27974855},\n",
       " 'users': []}"
      ]
     },
     "execution_count": 4,
     "metadata": {},
     "output_type": "execute_result"
    }
   ],
   "source": [
    "c.node_status(\"qdb://qdb-server:2836\")"
   ]
  },
  {
   "cell_type": "code",
   "execution_count": 5,
   "metadata": {},
   "outputs": [
    {
     "data": {
      "text/plain": [
       "{'local': {'depot': {'helium': {'url': '',\n",
       "    'fanout': 4,\n",
       "    'gc_fanout': 1,\n",
       "    'read_cache': 134217728,\n",
       "    'write_cache': 134217728,\n",
       "    'auto_commit_period': 20,\n",
       "    'auto_clean_period': 10},\n",
       "   'rocksdb': {'sync_every_write': False,\n",
       "    'root': 'db',\n",
       "    'max_bytes': 17179869184,\n",
       "    'storage_warning_level': 90,\n",
       "    'storage_warning_interval': 3600000,\n",
       "    'disable_wal': False,\n",
       "    'direct_read': False,\n",
       "    'direct_write': False,\n",
       "    'max_total_wal_size': 1073741824,\n",
       "    'metadata_mem_budget': 67108864,\n",
       "    'data_cache': 67108864,\n",
       "    'threads': 2,\n",
       "    'hi_threads': 1,\n",
       "    'max_open_files': 256},\n",
       "   'async_ts': {'pipelines': 1,\n",
       "    'pipeline_buffer_size': 1073741824,\n",
       "    'pipeline_queue_length': 1000000,\n",
       "    'flush_deadline': 4000}},\n",
       "  'user': {'license_file': '', 'license_key': '', 'daemon': False},\n",
       "  'limiter': {'max_resident_entries': 1631440,\n",
       "   'max_bytes': 1670594560,\n",
       "   'max_trim_queue_length': 10000000},\n",
       "  'logger': {'log_level': 2,\n",
       "   'flush_interval': 3000,\n",
       "   'log_directory': '',\n",
       "   'log_to_console': True,\n",
       "   'log_to_syslog': False},\n",
       "  'network': {'server_sessions': 64,\n",
       "   'partitions_count': 1,\n",
       "   'idle_timeout': 600000,\n",
       "   'client_timeout': 60000,\n",
       "   'max_in_buffer_size': 134217728,\n",
       "   'max_out_buffer_size': 134217728,\n",
       "   'listen_on': '172.17.0.2:2836',\n",
       "   'advertise_as': '172.17.0.2:2836',\n",
       "   'profile_performance': False},\n",
       "  'chord': {'node_id': 'c5fe30bf0154acc-5d63bd06e7878b9c-5f635b3cf7fc3560-dbe35df7b5080651',\n",
       "   'no_stabilization': False,\n",
       "   'bootstrapping_peers': [],\n",
       "   'min_stabilization_interval': 100,\n",
       "   'max_stabilization_interval': 60000}},\n",
       " 'global': {'cluster': {'storage_engine': 'rocksdb',\n",
       "   'enable_statistics': True,\n",
       "   'statistics_refresh_interval': 5000,\n",
       "   'replication_factor': 1,\n",
       "   'max_versions': 3,\n",
       "   'max_transaction_duration': 15000,\n",
       "   'acl_cache_duration': 60000,\n",
       "   'acl_cache_size': 100000,\n",
       "   'persisted_firehose': ''},\n",
       "  'security': {'enable_stop': False,\n",
       "   'enable_purge_all': False,\n",
       "   'enabled': False,\n",
       "   'encrypt_traffic': False,\n",
       "   'cluster_private_file': '',\n",
       "   'user_list': ''}}}"
      ]
     },
     "execution_count": 5,
     "metadata": {},
     "output_type": "execute_result"
    }
   ],
   "source": [
    "c.node_config(\"qdb://qdb-server:2836\")"
   ]
  },
  {
   "cell_type": "code",
   "execution_count": null,
   "metadata": {},
   "outputs": [],
   "source": []
  }
 ],
 "metadata": {
  "kernelspec": {
   "display_name": "Python 3",
   "language": "python",
   "name": "python3"
  },
  "language_info": {
   "codemirror_mode": {
    "name": "ipython",
    "version": 3
   },
   "file_extension": ".py",
   "mimetype": "text/x-python",
   "name": "python",
   "nbconvert_exporter": "python",
   "pygments_lexer": "ipython3",
   "version": "3.7.3"
  }
 },
 "nbformat": 4,
 "nbformat_minor": 2
}
