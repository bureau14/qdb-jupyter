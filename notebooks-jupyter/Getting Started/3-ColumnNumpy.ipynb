{
 "cells": [
  {
   "cell_type": "markdown",
   "metadata": {},
   "source": [
    "# Data in columns"
   ]
  },
  {
   "cell_type": "code",
   "execution_count": 1,
   "metadata": {},
   "outputs": [],
   "source": [
    "import quasardb\n",
    "import datetime as dt\n",
    "import numpy as np\n",
    "import matplotlib.pyplot as plt"
   ]
  },
  {
   "cell_type": "code",
   "execution_count": 2,
   "metadata": {},
   "outputs": [
    {
     "name": "stdout",
     "output_type": "stream",
     "text": [
      "3.4.1\n"
     ]
    }
   ],
   "source": [
    "sample_size=10\n",
    "print(quasardb.version()) \n",
    "c = quasardb.Cluster(\"qdb://qdb-server:2836\")"
   ]
  },
  {
   "cell_type": "markdown",
   "metadata": {},
   "source": [
    "<b>Create a column in table with a double type</b>"
   ]
  },
  {
   "cell_type": "code",
   "execution_count": 3,
   "metadata": {},
   "outputs": [],
   "source": [
    "#create table for this sample\n",
    "table = c.ts(\"ts_colum1_1\")\n",
    "columns = [quasardb.ColumnInfo(quasardb.ColumnType.Double, \"close\")]\n",
    "table.create(columns)\n",
    "\n",
    "#create timestamps to associate to timeseries\n",
    "timestamps = np.array('2019-03-14', dtype=np.datetime64)+ np.arange(sample_size)\n",
    "\n",
    "# Generate random doubles of timeserie\n",
    "double_values = np.random.uniform(-100.0, 100.0, sample_size)\n",
    "# Insert the double timeserie\n",
    "table.double_insert(\"close\", timestamps.astype('datetime64[ns]'), double_values)"
   ]
  },
  {
   "cell_type": "markdown",
   "metadata": {},
   "source": [
    "<b>retrieving entire column using a query</b>"
   ]
  },
  {
   "cell_type": "code",
   "execution_count": 4,
   "metadata": {},
   "outputs": [
    {
     "name": "stdout",
     "output_type": "stream",
     "text": [
      "$timestamp :  ['2019-03-14T00:00:00.000000000' '2019-03-15T00:00:00.000000000'\n",
      " '2019-03-16T00:00:00.000000000' '2019-03-17T00:00:00.000000000'\n",
      " '2019-03-18T00:00:00.000000000' '2019-03-19T00:00:00.000000000'\n",
      " '2019-03-20T00:00:00.000000000' '2019-03-21T00:00:00.000000000'\n",
      " '2019-03-22T00:00:00.000000000' '2019-03-23T00:00:00.000000000']\n",
      "close :  [ 90.15535641   8.94164689  54.02444463 -97.85351106 -49.1794477\n",
      " -93.90486333 -11.52845228  32.57131537 -66.26536651  43.60483398]\n"
     ]
    }
   ],
   "source": [
    "q = c.query(\"select * from ts_colum1_1 \")\n",
    "res = q.run()\n",
    "\n",
    "for col in res.tables[\"ts_colum1_1\"]:\n",
    "    # col.name is a string for the name of the column\n",
    "    # col.data is a numpy array of the proper type\n",
    "    assert sample_size== len(col.data)\n",
    "    print(col.name, \": \", col.data)"
   ]
  },
  {
   "cell_type": "markdown",
   "metadata": {},
   "source": [
    "<b>retriving entire column using native python</b>"
   ]
  },
  {
   "cell_type": "code",
   "execution_count": 5,
   "metadata": {},
   "outputs": [
    {
     "name": "stdout",
     "output_type": "stream",
     "text": [
      "returning 10 items\n"
     ]
    }
   ],
   "source": [
    "points = table.double_get_ranges(\"close\")\n",
    "query_timestamps = points[0]\n",
    "query_values = points[1]\n",
    "assert len(query_timestamps) == len(query_values)\n",
    "assert len(query_timestamps) == sample_size\n",
    "print(\"returning %d items\"  % len(query_timestamps))"
   ]
  },
  {
   "cell_type": "code",
   "execution_count": 6,
   "metadata": {},
   "outputs": [
    {
     "data": {
      "image/png": "[encoded data removed]",
      "text/plain": [
       "<Figure size 432x288 with 1 Axes>"
      ]
     },
     "metadata": {},
     "output_type": "display_data"
    }
   ],
   "source": [
    "plt.style.use('seaborn-whitegrid')\n",
    "plt.plot(query_timestamps, query_values)\n",
    "plt.xticks(rotation=90)\n",
    "plt.show()"
   ]
  },
  {
   "cell_type": "markdown",
   "metadata": {},
   "source": [
    "<b>Retrieve a range of 2 days </b>"
   ]
  },
  {
   "cell_type": "code",
   "execution_count": 7,
   "metadata": {},
   "outputs": [
    {
     "name": "stdout",
     "output_type": "stream",
     "text": [
      "['2019-03-14T00:00:00.000000000' '2019-03-15T00:00:00.000000000'] [90.15535641  8.94164689]\n"
     ]
    }
   ],
   "source": [
    "points = table.double_get_ranges(\"close\", [(np.datetime64('2019-03-14', 'ns'),\n",
    "                                        np.datetime64('2019-03-16', 'ns'))])\n",
    "query_timestamps = points[0]\n",
    "query_values = points[1]\n",
    "assert len(query_timestamps) == len(query_values)\n",
    "assert len(query_timestamps) == 2\n",
    "print(query_timestamps,query_values)\n"
   ]
  },
  {
   "cell_type": "markdown",
   "metadata": {},
   "source": [
    "<b>Retrieve multiple time ranges column<b>"
   ]
  },
  {
   "cell_type": "code",
   "execution_count": 8,
   "metadata": {},
   "outputs": [
    {
     "name": "stdout",
     "output_type": "stream",
     "text": [
      "['2019-03-14T00:00:00.000000000' '2019-03-15T00:00:00.000000000'\n",
      " '2019-03-18T00:00:00.000000000' '2019-03-19T00:00:00.000000000'] [ 90.15535641   8.94164689 -49.1794477  -93.90486333]\n"
     ]
    }
   ],
   "source": [
    "points = table.double_get_ranges(\"close\", [(np.datetime64('2019-03-14', 'ns'),\n",
    "                                        np.datetime64('2019-03-16', 'ns')),\n",
    "                                           (np.datetime64('2019-03-18', 'ns'),\n",
    "                                        np.datetime64('2019-03-20', 'ns'))\n",
    "                                       ])\n",
    "\n",
    "query_timestamps = points[0]\n",
    "query_values = points[1]\n",
    "assert len(query_timestamps) == len(query_values)\n",
    "assert len(query_timestamps) == 4\n",
    "print(query_timestamps,query_values)"
   ]
  },
  {
   "cell_type": "markdown",
   "metadata": {},
   "source": [
    "<b>Retrieving column content using iterator<br>\n",
    "If the table is very large ( several millions of lines ) this method streams <br> avoiding memory overflows on your client</b>"
   ]
  },
  {
   "cell_type": "code",
   "execution_count": 9,
   "metadata": {},
   "outputs": [
    {
     "name": "stdout",
     "output_type": "stream",
     "text": [
      "90.15535640906444\n",
      "8.941646890962403\n",
      "54.02444462796933\n",
      "-97.85351105605326\n",
      "-49.179447699977665\n",
      "-93.90486333497057\n",
      "-11.528452276180161\n",
      "32.57131537259701\n",
      "-66.26536650590108\n",
      "43.60483397936136\n"
     ]
    }
   ],
   "source": [
    "for row in table.reader(dict=True):\n",
    "    print(row['close'])"
   ]
  },
  {
   "cell_type": "code",
   "execution_count": 10,
   "metadata": {},
   "outputs": [],
   "source": [
    "assert table.column_type_by_id('close')== quasardb.quasardb.ColumnType.Double"
   ]
  },
  {
   "cell_type": "code",
   "execution_count": 11,
   "metadata": {},
   "outputs": [],
   "source": [
    "#tearing down data for this sample\n",
    "table = c.ts(\"ts_colum1_1\")\n",
    "table.remove()"
   ]
  },
  {
   "cell_type": "code",
   "execution_count": null,
   "metadata": {},
   "outputs": [],
   "source": []
  }
 ],
 "metadata": {
  "kernelspec": {
   "display_name": "Python 3",
   "language": "python",
   "name": "python3"
  },
  "language_info": {
   "codemirror_mode": {
    "name": "ipython",
    "version": 3
   },
   "file_extension": ".py",
   "mimetype": "text/x-python",
   "name": "python",
   "nbconvert_exporter": "python",
   "pygments_lexer": "ipython3",
   "version": "3.7.3"
  }
 },
 "nbformat": 4,
 "nbformat_minor": 2
}
