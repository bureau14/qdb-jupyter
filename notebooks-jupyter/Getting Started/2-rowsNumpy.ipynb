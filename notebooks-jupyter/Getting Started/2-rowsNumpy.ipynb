{
 "cells": [
  {
   "cell_type": "markdown",
   "metadata": {},
   "source": [
    "# Data in rows"
   ]
  },
  {
   "cell_type": "code",
   "execution_count": 16,
   "metadata": {},
   "outputs": [],
   "source": [
    "import quasardb\n",
    "import datetime as dt\n",
    "import numpy as np\n",
    "import matplotlib.pyplot as plt"
   ]
  },
  {
   "cell_type": "code",
   "execution_count": 17,
   "metadata": {},
   "outputs": [
    {
     "name": "stdout",
     "output_type": "stream",
     "text": [
      "3.4.1\n"
     ]
    }
   ],
   "source": [
    "sample_size=10\n",
    "print(quasardb.version()) \n",
    "c = quasardb.Cluster(\"qdb://qdb-server:2836\")"
   ]
  },
  {
   "cell_type": "markdown",
   "metadata": {},
   "source": [
    "<b>Create table with two columns with different types</b>"
   ]
  },
  {
   "cell_type": "code",
   "execution_count": 18,
   "metadata": {},
   "outputs": [],
   "source": [
    "#create table for this sample\n",
    "table = c.ts(\"ts_batch1_1\")\n",
    "\n",
    "columns = [quasardb.ColumnInfo(quasardb.ColumnType.Double, \"close\"),\n",
    "           quasardb.ColumnInfo(quasardb.ColumnType.Int64, \"volume\")]\n",
    "table.create(columns)\n"
   ]
  },
  {
   "cell_type": "markdown",
   "metadata": {},
   "source": [
    "<b> Create a transaction holder: a batch <br> Batch size is fixed programatically. Here we use the sample_size we have set </b>"
   ]
  },
  {
   "cell_type": "code",
   "execution_count": 19,
   "metadata": {},
   "outputs": [],
   "source": [
    "batch_columns = [quasardb.BatchColumnInfo(\"ts_batch1_1\", \"close\", sample_size),\n",
    "                 quasardb.BatchColumnInfo(\"ts_batch1_1\", \"volume\", sample_size)]\n",
    "batch_inserter = c.ts_batch(batch_columns)"
   ]
  },
  {
   "cell_type": "markdown",
   "metadata": {},
   "source": [
    "<b>Create data to be added to batch transaction</b>"
   ]
  },
  {
   "cell_type": "code",
   "execution_count": 20,
   "metadata": {},
   "outputs": [],
   "source": [
    "#create timestamps to associate to timeseries\n",
    "timestamps = np.array('2019-03-14', dtype=np.datetime64)+ np.arange(sample_size)\n",
    "\n",
    "# Generate random doubles of timeserie\n",
    "double_values = np.random.uniform(1, 100.0, sample_size)\n",
    "# Generate random doubles of timeserie\n",
    "int_values = np.random.randint(1, 100, sample_size)\n"
   ]
  },
  {
   "cell_type": "markdown",
   "metadata": {},
   "source": [
    "<b>Add rows to batch transaction</b>"
   ]
  },
  {
   "cell_type": "code",
   "execution_count": 21,
   "metadata": {},
   "outputs": [],
   "source": [
    "for row in range(len(timestamps)):\n",
    "    batch_inserter.start_row(np.datetime64(timestamps[row], 'ns'))\n",
    "    batch_inserter.set_double(0, double_values[row]) # set close\n",
    "    batch_inserter.set_int64(1, int_values[row]) # set volume"
   ]
  },
  {
   "cell_type": "markdown",
   "metadata": {},
   "source": [
    "<b> let's see if these entries made it to the server</b>"
   ]
  },
  {
   "cell_type": "code",
   "execution_count": 22,
   "metadata": {},
   "outputs": [
    {
     "name": "stdout",
     "output_type": "stream",
     "text": [
      "Table returned: 0\n"
     ]
    }
   ],
   "source": [
    "q = c.query(\"select * from ts_batch1_1 \")\n",
    "res = q.run()\n",
    "print ( \"Table returned:\", len( res.tables))\n"
   ]
  },
  {
   "cell_type": "markdown",
   "metadata": {},
   "source": [
    "<b>The data will be pushed to the server as a single transaction, guaranteeing all data is committed in one operation</b>"
   ]
  },
  {
   "cell_type": "code",
   "execution_count": 23,
   "metadata": {},
   "outputs": [],
   "source": [
    "# send to the server\n",
    "batch_inserter.push()"
   ]
  },
  {
   "cell_type": "markdown",
   "metadata": {},
   "source": [
    "<b>The data is now queryable</b>"
   ]
  },
  {
   "cell_type": "code",
   "execution_count": 24,
   "metadata": {},
   "outputs": [
    {
     "name": "stdout",
     "output_type": "stream",
     "text": [
      "$timestamp :  ['2019-03-14T00:00:00.000000000' '2019-03-15T00:00:00.000000000'\n",
      " '2019-03-16T00:00:00.000000000' '2019-03-17T00:00:00.000000000'\n",
      " '2019-03-18T00:00:00.000000000' '2019-03-19T00:00:00.000000000'\n",
      " '2019-03-20T00:00:00.000000000' '2019-03-21T00:00:00.000000000'\n",
      " '2019-03-22T00:00:00.000000000' '2019-03-23T00:00:00.000000000']\n",
      "close :  [75.68424133 52.2474901  92.13038454 59.42907505 57.19005246 16.47828926\n",
      " 50.99041598 75.97125142 97.64092279 45.21851715]\n",
      "volume :  [20 18 37 60 20 88  4 29 79 12]\n"
     ]
    }
   ],
   "source": [
    "q = c.query(\"select * from ts_batch1_1 \")\n",
    "res = q.run()\n",
    "\n",
    "for col in res.tables[\"ts_batch1_1\"]:\n",
    "    # col.name is a string for the name of the column\n",
    "    # col.data is a numpy array of the proper type\n",
    "    assert len(col.data) ==sample_size\n",
    "    print(col.name, \": \", col.data)\n"
   ]
  },
  {
   "cell_type": "markdown",
   "metadata": {},
   "source": [
    "<b>You can specify ranges </b>"
   ]
  },
  {
   "cell_type": "code",
   "execution_count": 25,
   "metadata": {},
   "outputs": [
    {
     "name": "stdout",
     "output_type": "stream",
     "text": [
      "$timestamp :  ['2019-03-14T00:00:00.000000000' '2019-03-15T00:00:00.000000000'\n",
      " '2019-03-16T00:00:00.000000000' '2019-03-17T00:00:00.000000000'\n",
      " '2019-03-18T00:00:00.000000000' '2019-03-19T00:00:00.000000000'\n",
      " '2019-03-20T00:00:00.000000000' '2019-03-21T00:00:00.000000000'\n",
      " '2019-03-22T00:00:00.000000000' '2019-03-23T00:00:00.000000000']\n",
      "close :  [75.68424133 52.2474901  92.13038454 59.42907505 57.19005246 16.47828926\n",
      " 50.99041598 75.97125142 97.64092279 45.21851715]\n",
      "volume :  [20 18 37 60 20 88  4 29 79 12]\n"
     ]
    }
   ],
   "source": [
    "q = c.query(\"select * from ts_batch1_1 in range(now(), -20y)\")\n",
    "res = q.run()\n",
    "\n",
    "for col in res.tables[\"ts_batch1_1\"]:\n",
    "    assert len(col.data) ==sample_size\n",
    "    print(col.name, \": \", col.data)\n",
    "\n"
   ]
  },
  {
   "cell_type": "markdown",
   "metadata": {},
   "source": [
    "<b>Operations</b>"
   ]
  },
  {
   "cell_type": "code",
   "execution_count": 26,
   "metadata": {},
   "outputs": [
    {
     "name": "stdout",
     "output_type": "stream",
     "text": [
      "$timestamp :  ['2019-03-19T00:00:00.000000000']\n",
      "min(close) :  [16.47828926]\n"
     ]
    }
   ],
   "source": [
    "q = c.query(\"select min(close) from ts_batch1_1 in range(now(), -20y)\")\n",
    "res = q.run()\n",
    "\n",
    "for col in res.tables[\"ts_batch1_1\"]:\n",
    "    print(col.name, \": \", col.data)"
   ]
  },
  {
   "cell_type": "code",
   "execution_count": 27,
   "metadata": {},
   "outputs": [
    {
     "name": "stdout",
     "output_type": "stream",
     "text": [
      "$timestamp :  ['2019-03-14T00:00:00.000000000' '2019-03-15T00:00:00.000000000'\n",
      " '2019-03-16T00:00:00.000000000' '2019-03-17T00:00:00.000000000'\n",
      " '2019-03-18T00:00:00.000000000' '2019-03-19T00:00:00.000000000'\n",
      " '2019-03-20T00:00:00.000000000' '2019-03-21T00:00:00.000000000'\n",
      " '2019-03-22T00:00:00.000000000' '2019-03-23T00:00:00.000000000']\n",
      "arithmetic_mean(close) :  [75.68424133 52.2474901  92.13038454 59.42907505 57.19005246 16.47828926\n",
      " 50.99041598 75.97125142 97.64092279 45.21851715]\n"
     ]
    }
   ],
   "source": [
    "q = c.query(\"select arithmetic_mean(close) from ts_batch1_1 in range(2019, +1y) group by day\")\n",
    "res = q.run()\n",
    "for col in res.tables[\"ts_batch1_1\"]:\n",
    "    print(col.name, \": \", col.data)"
   ]
  },
  {
   "cell_type": "markdown",
   "metadata": {},
   "source": [
    "<b>You can use an iterator on the table to access access data without using a query</b>"
   ]
  },
  {
   "cell_type": "code",
   "execution_count": 28,
   "metadata": {},
   "outputs": [
    {
     "name": "stdout",
     "output_type": "stream",
     "text": [
      "75.68424133378036\n",
      "52.24749009852676\n",
      "92.13038454037721\n",
      "59.42907504604708\n",
      "57.190052458697984\n",
      "16.478289263003965\n",
      "50.99041598258343\n",
      "75.97125141839608\n",
      "97.64092278815458\n",
      "45.21851715245746\n"
     ]
    }
   ],
   "source": [
    "for row in table.reader(dict=True):\n",
    "    print(row['close'])\n"
   ]
  },
  {
   "cell_type": "code",
   "execution_count": 29,
   "metadata": {},
   "outputs": [],
   "source": [
    "assert table.column_type_by_id('volume')== quasardb.quasardb.ColumnType.Int64\n",
    "assert table.column_type_by_id('close')== quasardb.quasardb.ColumnType.Double"
   ]
  },
  {
   "cell_type": "code",
   "execution_count": 30,
   "metadata": {},
   "outputs": [],
   "source": [
    "#tearing down data for this sample\n",
    "table = c.ts(\"ts_batch1_1\")\n",
    "table.remove()"
   ]
  },
  {
   "cell_type": "code",
   "execution_count": null,
   "metadata": {},
   "outputs": [],
   "source": []
  }
 ],
 "metadata": {
  "kernelspec": {
   "display_name": "Python 3",
   "language": "python",
   "name": "python3"
  },
  "language_info": {
   "codemirror_mode": {
    "name": "ipython",
    "version": 3
   },
   "file_extension": ".py",
   "mimetype": "text/x-python",
   "name": "python",
   "nbconvert_exporter": "python",
   "pygments_lexer": "ipython3",
   "version": "3.7.3"
  }
 },
 "nbformat": 4,
 "nbformat_minor": 2
}
