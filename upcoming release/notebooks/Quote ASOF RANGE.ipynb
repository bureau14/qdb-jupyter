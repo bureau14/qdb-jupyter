{
 "cells": [
  {
   "cell_type": "code",
   "execution_count": 22,
   "metadata": {},
   "outputs": [],
   "source": [
    "import pandas as pd\n",
    "import numpy as np\n",
    "import datetime as dt\n",
    "import random as rd\n",
    "import math\n",
    "import quasardb\n",
    "import quasardb.pandas as qdbpd"
   ]
  },
  {
   "cell_type": "code",
   "execution_count": 30,
   "metadata": {},
   "outputs": [],
   "source": [
    "number_of_quotes=10\n",
    "freq_quotes=5\n",
    "date = dt.datetime (2017, 3, 14, 9, 30, 0, 0)"
   ]
  },
  {
   "cell_type": "code",
   "execution_count": 52,
   "metadata": {},
   "outputs": [],
   "source": [
    "index = pd.date_range(date, periods=number_of_quotes, freq=str(freq_quotes)+'s')\n",
    "jitter=np.random.randint(0, freq_quotes-1,number_of_quotes )\n",
    "jitter_timedelta=pd.to_timedelta(jitter,unit='s')\n",
    "index= index+jitter_timedelta\n"
   ]
  },
  {
   "cell_type": "code",
   "execution_count": 55,
   "metadata": {},
   "outputs": [],
   "source": [
    "\n",
    "bids=np.random.randint(100, 110,number_of_quotes )\n",
    "asks=bids+rd.randint(1,3)"
   ]
  },
  {
   "cell_type": "code",
   "execution_count": 57,
   "metadata": {},
   "outputs": [],
   "source": [
    "quotes= pd.DataFrame (data={'bid_volume':np.random.randint(10, 110,number_of_quotes ),\n",
    "                            'bid':bids,\n",
    "                            'ask':asks,\n",
    "                            'ask_volume':np.random.randint(10, 110,number_of_quotes )}\n",
    "                      ,index=index)"
   ]
  },
  {
   "cell_type": "code",
   "execution_count": 58,
   "metadata": {},
   "outputs": [
    {
     "data": {
      "text/html": [
       "<div>\n",
       "<style scoped>\n",
       "    .dataframe tbody tr th:only-of-type {\n",
       "        vertical-align: middle;\n",
       "    }\n",
       "\n",
       "    .dataframe tbody tr th {\n",
       "        vertical-align: top;\n",
       "    }\n",
       "\n",
       "    .dataframe thead th {\n",
       "        text-align: right;\n",
       "    }\n",
       "</style>\n",
       "<table border=\"1\" class=\"dataframe\">\n",
       "  <thead>\n",
       "    <tr style=\"text-align: right;\">\n",
       "      <th></th>\n",
       "      <th>bid_volume</th>\n",
       "      <th>bid</th>\n",
       "      <th>ask</th>\n",
       "      <th>ask_volume</th>\n",
       "    </tr>\n",
       "  </thead>\n",
       "  <tbody>\n",
       "    <tr>\n",
       "      <th>2017-03-14 09:30:02</th>\n",
       "      <td>21</td>\n",
       "      <td>108</td>\n",
       "      <td>110</td>\n",
       "      <td>43</td>\n",
       "    </tr>\n",
       "    <tr>\n",
       "      <th>2017-03-14 09:30:06</th>\n",
       "      <td>105</td>\n",
       "      <td>100</td>\n",
       "      <td>102</td>\n",
       "      <td>10</td>\n",
       "    </tr>\n",
       "    <tr>\n",
       "      <th>2017-03-14 09:30:10</th>\n",
       "      <td>15</td>\n",
       "      <td>105</td>\n",
       "      <td>107</td>\n",
       "      <td>32</td>\n",
       "    </tr>\n",
       "    <tr>\n",
       "      <th>2017-03-14 09:30:18</th>\n",
       "      <td>47</td>\n",
       "      <td>104</td>\n",
       "      <td>106</td>\n",
       "      <td>78</td>\n",
       "    </tr>\n",
       "    <tr>\n",
       "      <th>2017-03-14 09:30:20</th>\n",
       "      <td>62</td>\n",
       "      <td>101</td>\n",
       "      <td>103</td>\n",
       "      <td>84</td>\n",
       "    </tr>\n",
       "    <tr>\n",
       "      <th>2017-03-14 09:30:26</th>\n",
       "      <td>87</td>\n",
       "      <td>109</td>\n",
       "      <td>111</td>\n",
       "      <td>29</td>\n",
       "    </tr>\n",
       "    <tr>\n",
       "      <th>2017-03-14 09:30:30</th>\n",
       "      <td>54</td>\n",
       "      <td>105</td>\n",
       "      <td>107</td>\n",
       "      <td>12</td>\n",
       "    </tr>\n",
       "    <tr>\n",
       "      <th>2017-03-14 09:30:37</th>\n",
       "      <td>79</td>\n",
       "      <td>104</td>\n",
       "      <td>106</td>\n",
       "      <td>11</td>\n",
       "    </tr>\n",
       "    <tr>\n",
       "      <th>2017-03-14 09:30:41</th>\n",
       "      <td>77</td>\n",
       "      <td>109</td>\n",
       "      <td>111</td>\n",
       "      <td>101</td>\n",
       "    </tr>\n",
       "    <tr>\n",
       "      <th>2017-03-14 09:30:47</th>\n",
       "      <td>83</td>\n",
       "      <td>102</td>\n",
       "      <td>104</td>\n",
       "      <td>42</td>\n",
       "    </tr>\n",
       "  </tbody>\n",
       "</table>\n",
       "</div>"
      ],
      "text/plain": [
       "                     bid_volume  bid  ask  ask_volume\n",
       "2017-03-14 09:30:02          21  108  110          43\n",
       "2017-03-14 09:30:06         105  100  102          10\n",
       "2017-03-14 09:30:10          15  105  107          32\n",
       "2017-03-14 09:30:18          47  104  106          78\n",
       "2017-03-14 09:30:20          62  101  103          84\n",
       "2017-03-14 09:30:26          87  109  111          29\n",
       "2017-03-14 09:30:30          54  105  107          12\n",
       "2017-03-14 09:30:37          79  104  106          11\n",
       "2017-03-14 09:30:41          77  109  111         101\n",
       "2017-03-14 09:30:47          83  102  104          42"
      ]
     },
     "execution_count": 58,
     "metadata": {},
     "output_type": "execute_result"
    }
   ],
   "source": [
    "quotes[:15]"
   ]
  },
  {
   "cell_type": "code",
   "execution_count": 59,
   "metadata": {},
   "outputs": [],
   "source": [
    "c = quasardb.Cluster(\"qdb://qdb-server:2836\")"
   ]
  },
  {
   "cell_type": "code",
   "execution_count": 60,
   "metadata": {},
   "outputs": [],
   "source": [
    "qdbpd.write_dataframe(quotes, c, \"quotes\",create=True)"
   ]
  },
  {
   "cell_type": "code",
   "execution_count": 61,
   "metadata": {},
   "outputs": [],
   "source": [
    "query= c.query(\"select  last( bid ) from quotes in range ( 2017-03-14 ,2017-03-15 ) group by 2s \")\n",
    "query_result = query.run()"
   ]
  },
  {
   "cell_type": "code",
   "execution_count": 62,
   "metadata": {},
   "outputs": [
    {
     "data": {
      "text/html": [
       "<div>\n",
       "<style scoped>\n",
       "    .dataframe tbody tr th:only-of-type {\n",
       "        vertical-align: middle;\n",
       "    }\n",
       "\n",
       "    .dataframe tbody tr th {\n",
       "        vertical-align: top;\n",
       "    }\n",
       "\n",
       "    .dataframe thead th {\n",
       "        text-align: right;\n",
       "    }\n",
       "</style>\n",
       "<table border=\"1\" class=\"dataframe\">\n",
       "  <thead>\n",
       "    <tr style=\"text-align: right;\">\n",
       "      <th></th>\n",
       "      <th>last(bid)</th>\n",
       "    </tr>\n",
       "    <tr>\n",
       "      <th>$timestamp</th>\n",
       "      <th></th>\n",
       "    </tr>\n",
       "  </thead>\n",
       "  <tbody>\n",
       "    <tr>\n",
       "      <th>2017-03-14 09:30:02</th>\n",
       "      <td>108</td>\n",
       "    </tr>\n",
       "    <tr>\n",
       "      <th>2017-03-14 09:30:06</th>\n",
       "      <td>100</td>\n",
       "    </tr>\n",
       "    <tr>\n",
       "      <th>2017-03-14 09:30:10</th>\n",
       "      <td>105</td>\n",
       "    </tr>\n",
       "    <tr>\n",
       "      <th>2017-03-14 09:30:18</th>\n",
       "      <td>104</td>\n",
       "    </tr>\n",
       "    <tr>\n",
       "      <th>2017-03-14 09:30:20</th>\n",
       "      <td>101</td>\n",
       "    </tr>\n",
       "  </tbody>\n",
       "</table>\n",
       "</div>"
      ],
      "text/plain": [
       "                     last(bid)\n",
       "$timestamp                    \n",
       "2017-03-14 09:30:02        108\n",
       "2017-03-14 09:30:06        100\n",
       "2017-03-14 09:30:10        105\n",
       "2017-03-14 09:30:18        104\n",
       "2017-03-14 09:30:20        101"
      ]
     },
     "execution_count": 62,
     "metadata": {},
     "output_type": "execute_result"
    }
   ],
   "source": [
    "tmp = dict()\n",
    "for col in query_result.tables['quotes']:\n",
    "    tmp[col.name] = col.data\n",
    "    result_as_pandas = pd.DataFrame.from_dict(tmp, orient='columns').set_index('$timestamp')\n",
    "result_as_pandas[:5]"
   ]
  },
  {
   "cell_type": "code",
   "execution_count": null,
   "metadata": {},
   "outputs": [],
   "source": []
  }
 ],
 "metadata": {
  "kernelspec": {
   "display_name": "Python 3",
   "language": "python",
   "name": "python3"
  },
  "language_info": {
   "codemirror_mode": {
    "name": "ipython",
    "version": 3
   },
   "file_extension": ".py",
   "mimetype": "text/x-python",
   "name": "python",
   "nbconvert_exporter": "python",
   "pygments_lexer": "ipython3",
   "version": "3.7.3"
  }
 },
 "nbformat": 4,
 "nbformat_minor": 2
}
